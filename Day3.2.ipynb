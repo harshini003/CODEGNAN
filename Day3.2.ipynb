{
 "cells": [
  {
   "cell_type": "markdown",
   "id": "44397de0-fb8d-41a3-a16b-21f6cf424256",
   "metadata": {},
   "source": [
    "steps to follow in web_scraping\n",
    "---> 1. First we will use request module to connect to web page\n",
    "---> 2. Using BeautifulSoup we try to get relevant fields(information)\n",
    "---> 3. Analyzing/parsing the html content in list/dict\n",
    "---> 4. finally storing the data in (.csv,.xl,.json)"
   ]
  },
  {
   "cell_type": "code",
   "execution_count": 3,
   "id": "b0049353-cf52-4260-a722-899fff2c70f6",
   "metadata": {},
   "outputs": [
    {
     "name": "stdout",
     "output_type": "stream",
     "text": [
      "Collecting requests\n",
      "  Downloading requests-2.31.0-py3-none-any.whl.metadata (4.6 kB)\n",
      "Collecting charset-normalizer<4,>=2 (from requests)\n",
      "  Downloading charset_normalizer-3.3.2-cp310-cp310-win_amd64.whl.metadata (34 kB)\n",
      "Collecting idna<4,>=2.5 (from requests)\n",
      "  Downloading idna-3.6-py3-none-any.whl.metadata (9.9 kB)\n",
      "Collecting urllib3<3,>=1.21.1 (from requests)\n",
      "  Downloading urllib3-2.1.0-py3-none-any.whl.metadata (6.4 kB)\n",
      "Collecting certifi>=2017.4.17 (from requests)\n",
      "  Downloading certifi-2023.11.17-py3-none-any.whl.metadata (2.2 kB)\n",
      "Downloading requests-2.31.0-py3-none-any.whl (62 kB)\n",
      "   ---------------------------------------- 62.6/62.6 kB 3.5 MB/s eta 0:00:00\n",
      "Downloading certifi-2023.11.17-py3-none-any.whl (162 kB)\n",
      "   -------------------------------------- 162.5/162.5 kB 609.2 kB/s eta 0:00:00\n",
      "Downloading charset_normalizer-3.3.2-cp310-cp310-win_amd64.whl (100 kB)\n",
      "   -------------------------------------- 100.3/100.3 kB 720.8 kB/s eta 0:00:00\n",
      "Downloading idna-3.6-py3-none-any.whl (61 kB)\n",
      "   ---------------------------------------- 61.6/61.6 kB 366.6 kB/s eta 0:00:00\n",
      "Downloading urllib3-2.1.0-py3-none-any.whl (104 kB)\n",
      "   -------------------------------------- 104.6/104.6 kB 430.8 kB/s eta 0:00:00\n",
      "Installing collected packages: urllib3, idna, charset-normalizer, certifi, requests\n",
      "Successfully installed certifi-2023.11.17 charset-normalizer-3.3.2 idna-3.6 requests-2.31.0 urllib3-2.1.0\n"
     ]
    },
    {
     "name": "stderr",
     "output_type": "stream",
     "text": [
      "\n",
      "[notice] A new release of pip is available: 23.3.1 -> 23.3.2\n",
      "[notice] To update, run: python.exe -m pip install --upgrade pip\n"
     ]
    }
   ],
   "source": [
    "!pip install requests"
   ]
  },
  {
   "cell_type": "code",
   "execution_count": 1,
   "id": "75029548-42a2-42b2-af9e-f0fe3b4004e0",
   "metadata": {},
   "outputs": [
    {
     "name": "stdout",
     "output_type": "stream",
     "text": [
      "Collecting beautifulSoup4\n",
      "  Using cached beautifulsoup4-4.12.2-py3-none-any.whl (142 kB)\n",
      "Collecting soupsieve>1.2 (from beautifulSoup4)\n",
      "  Downloading soupsieve-2.5-py3-none-any.whl.metadata (4.7 kB)\n",
      "Downloading soupsieve-2.5-py3-none-any.whl (36 kB)\n",
      "Installing collected packages: soupsieve, beautifulSoup4\n",
      "Successfully installed beautifulSoup4-4.12.2 soupsieve-2.5\n"
     ]
    },
    {
     "name": "stderr",
     "output_type": "stream",
     "text": [
      "\n",
      "[notice] A new release of pip is available: 23.3.1 -> 23.3.2\n",
      "[notice] To update, run: python.exe -m pip install --upgrade pip\n"
     ]
    }
   ],
   "source": [
    "!pip install beautifulSoup4"
   ]
  },
  {
   "cell_type": "code",
   "execution_count": 2,
   "id": "8081fdb6-d1bd-4ee8-b3c6-2fc809d55d29",
   "metadata": {},
   "outputs": [
    {
     "name": "stdout",
     "output_type": "stream",
     "text": [
      "Collecting bs4\n",
      "  Using cached bs4-0.0.1.tar.gz (1.1 kB)\n",
      "  Preparing metadata (setup.py): started\n",
      "  Preparing metadata (setup.py): finished with status 'done'\n",
      "Requirement already satisfied: beautifulsoup4 in c:\\users\\harsh\\onedrive\\desktop\\codeg\\codegnan\\lib\\site-packages (from bs4) (4.12.2)\n",
      "Requirement already satisfied: soupsieve>1.2 in c:\\users\\harsh\\onedrive\\desktop\\codeg\\codegnan\\lib\\site-packages (from beautifulsoup4->bs4) (2.5)\n",
      "Building wheels for collected packages: bs4\n",
      "  Building wheel for bs4 (setup.py): started\n",
      "  Building wheel for bs4 (setup.py): finished with status 'done'\n",
      "  Created wheel for bs4: filename=bs4-0.0.1-py3-none-any.whl size=1262 sha256=b20c66a47c4c5a8e3bb2b6de2a16356e72354ea0b074020ca3b254e9a2aa9e23\n",
      "  Stored in directory: c:\\users\\harsh\\appdata\\local\\pip\\cache\\wheels\\25\\42\\45\\b773edc52acb16cd2db4cf1a0b47117e2f69bb4eb300ed0e70\n",
      "Successfully built bs4\n",
      "Installing collected packages: bs4\n",
      "Successfully installed bs4-0.0.1\n"
     ]
    },
    {
     "name": "stderr",
     "output_type": "stream",
     "text": [
      "\n",
      "[notice] A new release of pip is available: 23.3.1 -> 23.3.2\n",
      "[notice] To update, run: python.exe -m pip install --upgrade pip\n"
     ]
    }
   ],
   "source": [
    "!pip install bs4"
   ]
  },
  {
   "cell_type": "code",
   "execution_count": 3,
   "id": "f97d6ac5-9ea4-40a4-8f9b-c4c768e771c5",
   "metadata": {},
   "outputs": [],
   "source": [
    "import requests\n",
    "import bs4"
   ]
  },
  {
   "cell_type": "code",
   "execution_count": 4,
   "id": "8f681f12-95ec-400b-875e-68dcbbd8335f",
   "metadata": {},
   "outputs": [],
   "source": [
    "#help(requests)"
   ]
  },
  {
   "cell_type": "code",
   "execution_count": 5,
   "id": "953592c6-3b55-4d94-901c-8e14a8adc183",
   "metadata": {},
   "outputs": [],
   "source": [
    "#help(bs4)"
   ]
  },
  {
   "cell_type": "code",
   "execution_count": 6,
   "id": "8f71f332-f107-4a7c-a368-0a4003fa2dd2",
   "metadata": {},
   "outputs": [
    {
     "data": {
      "text/plain": [
       "<Response [200]>"
      ]
     },
     "execution_count": 6,
     "metadata": {},
     "output_type": "execute_result"
    }
   ],
   "source": [
    "# lets get desired url of the website we want to scrape\n",
    "url = \"https://www.makaan.com/vijayawada-residential-property/buy-property-in-vijayawada-city\"\n",
    "data = requests.get(url)\n",
    "data"
   ]
  },
  {
   "cell_type": "code",
   "execution_count": 7,
   "id": "a51eb21a-f98f-4105-83ae-ae6f93afeccb",
   "metadata": {},
   "outputs": [],
   "source": [
    "#data.text"
   ]
  },
  {
   "cell_type": "code",
   "execution_count": 8,
   "id": "4ba0c9a5-f4cf-4392-ba97-80a6bddcf46d",
   "metadata": {},
   "outputs": [
    {
     "data": {
      "text/plain": [
       "str"
      ]
     },
     "execution_count": 8,
     "metadata": {},
     "output_type": "execute_result"
    }
   ],
   "source": [
    "type(data.text)"
   ]
  },
  {
   "cell_type": "code",
   "execution_count": 9,
   "id": "1096fa0b-3a6d-4ace-b87d-67a78ebc5b3c",
   "metadata": {},
   "outputs": [],
   "source": [
    "from bs4 import BeautifulSoup"
   ]
  },
  {
   "cell_type": "code",
   "execution_count": 10,
   "id": "1869c3df-59c0-4f20-a484-f26fccd82adc",
   "metadata": {},
   "outputs": [
    {
     "data": {
      "text/plain": [
       "bs4.BeautifulSoup"
      ]
     },
     "execution_count": 10,
     "metadata": {},
     "output_type": "execute_result"
    }
   ],
   "source": [
    "soup = BeautifulSoup(data.text,'html')\n",
    "soup\n",
    "type(soup)"
   ]
  },
  {
   "cell_type": "code",
   "execution_count": 11,
   "id": "f8e45518-ceb7-4c8d-bb60-1d16a7b5a879",
   "metadata": {},
   "outputs": [
    {
     "data": {
      "text/plain": [
       "'Residential Plot in Himaja Elite Vistas'"
      ]
     },
     "execution_count": 11,
     "metadata": {},
     "output_type": "execute_result"
    }
   ],
   "source": [
    "# desired listings --->property name,area,price,price_saft,status,builder and so on..........\n",
    "soup.find('div',attrs={'class':'title-line'}).text"
   ]
  },
  {
   "cell_type": "code",
   "execution_count": 12,
   "id": "9760eb25-757d-43f5-b4d9-f2461b9a42bc",
   "metadata": {},
   "outputs": [
    {
     "data": {
      "text/plain": [
       "'Kesarapalli'"
      ]
     },
     "execution_count": 12,
     "metadata": {},
     "output_type": "execute_result"
    }
   ],
   "source": [
    "soup.find('span',attrs={'itemprop':'addressLocality'}).text"
   ]
  },
  {
   "cell_type": "code",
   "execution_count": 13,
   "id": "85d3f99a-7be6-4aea-a89a-2de3f483b98e",
   "metadata": {},
   "outputs": [
    {
     "data": {
      "text/plain": [
       "' 2.52 Cr'"
      ]
     },
     "execution_count": 13,
     "metadata": {},
     "output_type": "execute_result"
    }
   ],
   "source": [
    "# find area,price,total_price_per_saft,construction_status\n",
    "soup.find('div',attrs={'data-type':'price-link'}).text"
   ]
  },
  {
   "cell_type": "code",
   "execution_count": 14,
   "id": "aa2351eb-dce6-4174-9137-6b021e767097",
   "metadata": {},
   "outputs": [
    {
     "data": {
      "text/plain": [
       "'3,500 / sq ft'"
      ]
     },
     "execution_count": 14,
     "metadata": {},
     "output_type": "execute_result"
    }
   ],
   "source": [
    "soup.find('td',attrs={'class':'lbl rate'}).text"
   ]
  },
  {
   "cell_type": "code",
   "execution_count": 15,
   "id": "70d81452-8cf0-4bdb-94c6-8a94b19011be",
   "metadata": {},
   "outputs": [
    {
     "data": {
      "text/plain": [
       "'7200 '"
      ]
     },
     "execution_count": 15,
     "metadata": {},
     "output_type": "execute_result"
    }
   ],
   "source": [
    "soup.find('td',attrs={'class':'size'}).text"
   ]
  },
  {
   "cell_type": "code",
   "execution_count": 16,
   "id": "3d7d4dca-c49c-421f-89dc-d01a8c8c133a",
   "metadata": {},
   "outputs": [
    {
     "data": {
      "text/plain": [
       "'New'"
      ]
     },
     "execution_count": 16,
     "metadata": {},
     "output_type": "execute_result"
    }
   ],
   "source": [
    "soup.find('td',attrs={'class':'val'}).text"
   ]
  },
  {
   "cell_type": "code",
   "execution_count": 17,
   "id": "3ed598df-429e-468b-94d5-05fb21cfa332",
   "metadata": {},
   "outputs": [
    {
     "data": {
      "text/plain": [
       "'1 - 2 years old'"
      ]
     },
     "execution_count": 17,
     "metadata": {},
     "output_type": "execute_result"
    }
   ],
   "source": [
    "soup.find('ul',attrs={'class':'listing-details'}).text"
   ]
  },
  {
   "cell_type": "code",
   "execution_count": 18,
   "id": "f2a5ac6f-418a-4633-94dc-ce70b893fe21",
   "metadata": {},
   "outputs": [
    {
     "data": {
      "text/plain": [
       "'BUILDER'"
      ]
     },
     "execution_count": 18,
     "metadata": {},
     "output_type": "execute_result"
    }
   ],
   "source": [
    "soup.find('div',attrs={'class':'second-line'}).text"
   ]
  },
  {
   "cell_type": "code",
   "execution_count": 19,
   "id": "9572c4af-500b-45a1-b676-839a99f23599",
   "metadata": {},
   "outputs": [
    {
     "data": {
      "text/plain": [
       "'home'"
      ]
     },
     "execution_count": 19,
     "metadata": {},
     "output_type": "execute_result"
    }
   ],
   "source": [
    "soup.find('span',attrs={'itemprop':'name'}).text"
   ]
  },
  {
   "cell_type": "code",
   "execution_count": 20,
   "id": "e5399d0e-dfcf-4e1d-97a0-8c8f9261f41a",
   "metadata": {},
   "outputs": [
    {
     "data": {
      "text/plain": [
       "'Himaja Constructions P Ltd'"
      ]
     },
     "execution_count": 20,
     "metadata": {},
     "output_type": "execute_result"
    }
   ],
   "source": [
    "soup.find('a',attrs={'class':'seller-name'}).text"
   ]
  },
  {
   "cell_type": "code",
   "execution_count": 21,
   "id": "1c87fde7-fcf7-4699-bce0-6a13adee4f76",
   "metadata": {},
   "outputs": [
    {
     "name": "stdout",
     "output_type": "stream",
     "text": [
      "['Kesarapalli', 'Kesarapalli', 'Gannavaram', 'Poranki', 'Kankipadu', 'Poranki', 'Kankipadu', 'Poranki', 'Gannavaram', 'Gunadala', 'Gollapudi', 'Enikepadu', 'Benz Circle', 'Vidhyadharpuram', 'Penamaluru', 'Kankipadu', 'Poranki', 'Kankipadu', 'Benz Circle', 'Gannavaram']\n",
      "20\n"
     ]
    }
   ],
   "source": [
    "# now lets extract multiple entries from the web page\n",
    "# we use find_all() to get multiple listings \n",
    "d = soup.find_all('span',attrs={'itemprop':'addressLocality'})\n",
    "# create a new list to store of names\n",
    "names = []\n",
    "for i in d:\n",
    "    names.append(i.text)\n",
    "print(names)\n",
    "print(len(names))"
   ]
  },
  {
   "cell_type": "code",
   "execution_count": 22,
   "id": "7baef90f-aaf6-4713-8bb2-a4df62a3ec44",
   "metadata": {},
   "outputs": [
    {
     "name": "stdout",
     "output_type": "stream",
     "text": [
      "['Kesarapalli', 'Kesarapalli', 'Gannavaram', 'Poranki', 'Kankipadu', 'Poranki', 'Kankipadu', 'Poranki', 'Gannavaram', 'Gunadala', 'Gollapudi', 'Enikepadu', 'Benz Circle', 'Vidhyadharpuram', 'Penamaluru', 'Kankipadu', 'Poranki', 'Kankipadu', 'Benz Circle', 'Gannavaram']\n",
      "20\n"
     ]
    }
   ],
   "source": [
    "# same above can be written in list compression\n",
    "d = soup.find_all('span',attrs={'itemprop':'addressLocality'})\n",
    "# every list compression can be written as for loop whereas vice versa is \n",
    "location = [i.text for i in d]\n",
    "print(location)\n",
    "print(len(location))"
   ]
  },
  {
   "cell_type": "code",
   "execution_count": 23,
   "id": "3742fbeb-1f47-4761-9b6c-f9c37cda812c",
   "metadata": {},
   "outputs": [
    {
     "name": "stdout",
     "output_type": "stream",
     "text": [
      "['7200', '1944', '1266', '1587', '1560', '1450', '1290', '1200', '1663', '1500', '2062', '1250', '1350', '1600', '3700', '1782', '1800', '1500', '2317', '1650']\n",
      "20\n"
     ]
    }
   ],
   "source": [
    "# in the similar way we will extract area,price,price_saft and so on .....\n",
    "e = soup.find_all('td',attrs={'class':'size'})\n",
    "area = [i.text.strip() for i in e]\n",
    "print(area)\n",
    "print(len(area))"
   ]
  },
  {
   "cell_type": "code",
   "execution_count": 25,
   "id": "bf409a03-9d1e-4742-a6e6-ff5b69bf3e6f",
   "metadata": {},
   "outputs": [
    {
     "name": "stdout",
     "output_type": "stream",
     "text": [
      "['2.52 Cr', '68.04 L', '45.57 L', '55.5 L', '15.5 L', '48 L', '50 L', '40 L', '59.86 L', '56 L', '89 L', '39 L', '59 L', '95 L', '1.1 Cr', '16.83 L', '33 L', '20 L', '1.66 Cr', '72 L']\n"
     ]
    }
   ],
   "source": [
    "# Extract price and modify it\n",
    "f = soup.find_all('div',attrs={'data-type':'price-link'})\n",
    "p = [i.text.strip() for i in f]\n",
    "print(p)"
   ]
  },
  {
   "cell_type": "code",
   "execution_count": 26,
   "id": "d85c9423-fc05-4c12-9de2-c059ccb2977c",
   "metadata": {},
   "outputs": [
    {
     "name": "stdout",
     "output_type": "stream",
     "text": [
      "[252.0, 68.04, 45.57, 55.5, 15.5, 48.0, 50.0, 40.0, 59.86, 56.0, 89.0, 39.0, 59.0, 95.0, 110.00000000000001, 16.83, 33.0, 20.0, 166.0, 72.0]\n"
     ]
    }
   ],
   "source": [
    "# we will modify cr and convert all into one scale\n",
    "prices = []\n",
    "f = soup.find_all('div',attrs={'data-type':'price-link'})\n",
    "for i in f:\n",
    "    i = i.text.strip()\n",
    "    if 'Cr' in i:\n",
    "        i = i.replace(\" Cr\",'')\n",
    "        i = float(i)*100\n",
    "        \n",
    "    else:\n",
    "        i = i.replace(\" L\",'')\n",
    "        i = float(i)\n",
    "    prices.append(i)\n",
    "print(prices)"
   ]
  },
  {
   "cell_type": "code",
   "execution_count": 27,
   "id": "7c5a6735-f3d9-4df9-86d3-7b5d9a6fce9a",
   "metadata": {},
   "outputs": [
    {
     "name": "stdout",
     "output_type": "stream",
     "text": [
      "['3,500 / sq ft', '3,500 / sq ft', '3,600 / sq ft', '3,497 / sq ft', '993 / sq ft', '3,310 / sq ft', '3,875 / sq ft', '3,333 / sq ft', '3,600 / sq ft', '3,733 / sq ft', '4,316 / sq ft', '3,120 / sq ft', '4,370 / sq ft', '5,937 / sq ft', '2,972 / sq ft', '944 / sq ft', '1,833 / sq ft', '1,333 / sq ft', '7,200 / sq ft', '4,363 / sq ft']\n",
      "20\n"
     ]
    }
   ],
   "source": [
    "g = soup.find_all('td',attrs={'class':'lbl rate'})\n",
    "h = [i.text for i in g]\n",
    "print(h)\n",
    "print(len(h))"
   ]
  },
  {
   "cell_type": "code",
   "execution_count": 28,
   "id": "863ee4fa-f160-4cc6-a487-bab262b97661",
   "metadata": {},
   "outputs": [
    {
     "name": "stdout",
     "output_type": "stream",
     "text": [
      "['New', 'New', 'Ready to move', 'Ready to move', 'Resale', 'Ready to move', 'Under Construction', 'Ready to move', 'Ready to move', 'Ready to move', 'Ready to move', 'Ready to move', 'Ready to move', 'Under Construction', 'Ready to move', 'Resale', 'Resale', 'Resale', 'Under Construction', 'Ready to move']\n",
      "20\n"
     ]
    }
   ],
   "source": [
    "j = soup.find_all('td',attrs={'class':'val'})\n",
    "k = [i.text for i in j]\n",
    "print(k)\n",
    "print(len(k))"
   ]
  },
  {
   "cell_type": "code",
   "execution_count": 29,
   "id": "ee96209a-fda3-4b6d-b1f8-f47e69f44191",
   "metadata": {},
   "outputs": [],
   "source": [
    "# we will modify listing details & create new entries"
   ]
  },
  {
   "cell_type": "code",
   "execution_count": 30,
   "id": "54bb4592-abd6-4873-b601-24adba3b7ff5",
   "metadata": {},
   "outputs": [],
   "source": [
    "# try to perform web scraping from multiple pages -----> task saketh@codegnan.com"
   ]
  },
  {
   "cell_type": "markdown",
   "id": "fa8d702c-4400-4008-9695-71d7bc5dceca",
   "metadata": {},
   "source": [
    "-----------------------> DAY 4 -------------------------------------------------\n",
    "### Lets go for rmng listings Property_Type ,bedrooms list "
   ]
  },
  {
   "cell_type": "code",
   "execution_count": 43,
   "id": "50652cc5-da30-459a-b876-acca7bf2ca36",
   "metadata": {},
   "outputs": [
    {
     "name": "stdout",
     "output_type": "stream",
     "text": [
      "Residential Plot in Himaja Elite Vistas\n",
      "Residential Plot in Himaja Elite Vistas\n",
      "2 BHK Apartment in Himaja Sri Hemadurga Jewel County\n",
      "3 BHK Apartment\n",
      "Residential Plot\n",
      "2 BHK Apartment\n",
      "2 BHK Independent House\n",
      "2 BHK Apartment in Hycon Elite\n",
      "3 BHK Apartment\n",
      "3 BHK Independent Floor\n",
      "3 BHK Apartment\n",
      "2 BHK Apartment\n",
      "2 BHK Independent House\n",
      "3 BHK Independent Floor\n",
      "6 BHK Independent House\n",
      "Residential Plot in Harivillu Fortune Legendary\n",
      "Residential Plot\n",
      "Residential Plot\n",
      "3 BHK Apartment in Pooja Tree Storey\n",
      "3 BHK Apartment in Sri Naga Sun Rise Enclave\n",
      "['Residential Plot', 'Residential Plot', 'Apartment', 'Apartment', 'Residential Plot', 'Apartment', 'Independent House', 'Apartment', 'Apartment', 'Independent Floor', 'Apartment', 'Apartment', 'Independent House', 'Independent Floor', 'Independent House', 'Residential Plot', 'Residential Plot', 'Residential Plot', 'Apartment', 'Apartment']\n",
      "20\n"
     ]
    }
   ],
   "source": [
    "# we will create list of all property types as below\n",
    "Property_Types = ['Apartment','Villa','Builder Folder','Residential Plot','Independent House','Independent Floor','Studio Apartment']\n",
    "# now we will check for the type in above given list \n",
    "h = soup.find_all('div',attrs= {'class':'title-line'})\n",
    "p_types = []\n",
    "for i in h:\n",
    "    i = i.text\n",
    "    print(i)\n",
    "    for j in Property_Types:\n",
    "        if j in i:\n",
    "            p_types .append(j)\n",
    "print(p_types)\n",
    "print(len(p_types))"
   ]
  },
  {
   "cell_type": "code",
   "execution_count": 32,
   "id": "509e5b9b-9030-4ccb-af47-20445d0dc847",
   "metadata": {},
   "outputs": [
    {
     "name": "stdout",
     "output_type": "stream",
     "text": [
      "['0', '0', '2', '3', '0', '2', '2', '2', '3', '3', '3', '2', '2', '3', '6', '0', '0', '0', '3', '3']\n",
      "20\n"
     ]
    }
   ],
   "source": [
    "# checking for no of BHK and replacing Residential plot with any value such as 0\n",
    "g = soup.find_all('div',attrs={'class':'title-line'})\n",
    "Rooms = []\n",
    "for i in g:\n",
    "    i = i.span.text\n",
    "    i = i.replace(\"Residential Plot\",\"0\").replace(\" \",'')\n",
    "    #print(i)\n",
    "    Rooms.append(i)\n",
    "print(Rooms)\n",
    "print(len(Rooms))"
   ]
  },
  {
   "cell_type": "code",
   "execution_count": 33,
   "id": "bd3a9c50-7c9a-4a22-8c86-37fb7101f1e2",
   "metadata": {},
   "outputs": [
    {
     "name": "stdout",
     "output_type": "stream",
     "text": [
      "['1 - 2 years old', '1 - 2 years old', '3 - 4 years old2 BathroomsNew ', '3 BathroomsResale West facing', '7 - 8 years old2 open sidesEast facing', '2 BathroomsResale ', '2 BathroomsResale NorthEast facing', '2 BathroomsResale ', '3 BathroomsResale East facing', '3 BathroomsResale ', '3 BathroomsResale ', '2 BathroomsResale ', '2 BathroomsResale East facing', '3 BathroomsResale West facing', '7 - 8 years old7 BathroomsResale ', '1 - 2 years old', '1 open sidesWest facing', '7 - 8 years old', '3 BathroomsNew East facing', '2 - 3 years old3 BathroomsNew ']\n",
      "20\n"
     ]
    }
   ],
   "source": [
    "j = soup.find_all('ul',attrs={'class':'listing-details'})\n",
    "k = [i.text for i in j]\n",
    "print(k)\n",
    "print(len(k))"
   ]
  },
  {
   "cell_type": "code",
   "execution_count": 34,
   "id": "5092933f-24a0-4fc7-9194-3f755f53971f",
   "metadata": {},
   "outputs": [],
   "source": [
    "# now based on above output we need to map a logic in such a way that it will understand the pattern ---->Regular expression(re)\n",
    "import re # pattern matching"
   ]
  },
  {
   "cell_type": "code",
   "execution_count": 35,
   "id": "9fca506e-8e16-424e-a531-44af08b543bc",
   "metadata": {},
   "outputs": [
    {
     "name": "stdout",
     "output_type": "stream",
     "text": [
      "['None', 'None', 'None', 'West', 'East', 'None', 'NorthEast', 'None', 'East', 'None', 'None', 'None', 'East', 'West', 'None', 'None', 'West', 'None', 'East', 'None']\n",
      "[0, 0, 2, 3, 0, 2, 2, 2, 3, 3, 3, 2, 2, 3, 7, 0, 0, 0, 3, 3]\n"
     ]
    }
   ],
   "source": [
    "h = soup.find_all('ul',attrs={'class':'listing-details'})\n",
    "Bathrooms = []\n",
    "Facing = []\n",
    "# we will use regex for facing and lsiting of bathrooms\n",
    "for i in h:\n",
    "    i = i.text\n",
    "    #print(i.text)\n",
    "    b_count = re.findall(r'(\\d+) Bathrooms',i) # \\d -->digit\n",
    "    #print(b_count)\n",
    "    if b_count:\n",
    "        Bathrooms.append(int(b_count[0]))\n",
    "    else:\n",
    "        Bathrooms.append(0)\n",
    "    facing_directions = re.findall(r'(North|South|East|West|NorthEast|NorthWest|SouthEast|SouthWest) facing',i)\n",
    "    if facing_directions:\n",
    "        Facing.append(facing_directions[0])\n",
    "    else:\n",
    "        Facing.append('None')\n",
    "print(Facing)\n",
    "#print(len(Facing))\n",
    "print(Bathrooms)\n",
    "#print(len(Bathrooms))"
   ]
  },
  {
   "cell_type": "markdown",
   "id": "650328fe-1cd3-499d-b64a-85df5e02a2a0",
   "metadata": {},
   "source": [
    "## Extraction from multiple pages"
   ]
  },
  {
   "cell_type": "code",
   "execution_count": 36,
   "id": "ccec0f84-8c6f-403c-bcc0-a0ad9a30a3a0",
   "metadata": {},
   "outputs": [
    {
     "name": "stdout",
     "output_type": "stream",
     "text": [
      "https://www.makaan.com/vijayawada-residential-property/buy-property-in-vijayawada-city?page=1\n",
      "https://www.makaan.com/vijayawada-residential-property/buy-property-in-vijayawada-city?page=2\n",
      "https://www.makaan.com/vijayawada-residential-property/buy-property-in-vijayawada-city?page=3\n",
      "https://www.makaan.com/vijayawada-residential-property/buy-property-in-vijayawada-city?page=4\n",
      "https://www.makaan.com/vijayawada-residential-property/buy-property-in-vijayawada-city?page=5\n",
      "https://www.makaan.com/vijayawada-residential-property/buy-property-in-vijayawada-city?page=6\n",
      "https://www.makaan.com/vijayawada-residential-property/buy-property-in-vijayawada-city?page=7\n",
      "https://www.makaan.com/vijayawada-residential-property/buy-property-in-vijayawada-city?page=8\n",
      "https://www.makaan.com/vijayawada-residential-property/buy-property-in-vijayawada-city?page=9\n",
      "https://www.makaan.com/vijayawada-residential-property/buy-property-in-vijayawada-city?page=10\n",
      "https://www.makaan.com/vijayawada-residential-property/buy-property-in-vijayawada-city?page=11\n",
      "https://www.makaan.com/vijayawada-residential-property/buy-property-in-vijayawada-city?page=12\n",
      "https://www.makaan.com/vijayawada-residential-property/buy-property-in-vijayawada-city?page=13\n",
      "https://www.makaan.com/vijayawada-residential-property/buy-property-in-vijayawada-city?page=14\n",
      "https://www.makaan.com/vijayawada-residential-property/buy-property-in-vijayawada-city?page=15\n",
      "https://www.makaan.com/vijayawada-residential-property/buy-property-in-vijayawada-city?page=16\n",
      "https://www.makaan.com/vijayawada-residential-property/buy-property-in-vijayawada-city?page=17\n",
      "https://www.makaan.com/vijayawada-residential-property/buy-property-in-vijayawada-city?page=18\n",
      "https://www.makaan.com/vijayawada-residential-property/buy-property-in-vijayawada-city?page=19\n",
      "https://www.makaan.com/vijayawada-residential-property/buy-property-in-vijayawada-city?page=20\n"
     ]
    }
   ],
   "source": [
    "base_url = \"https://www.makaan.com/vijayawada-residential-property/buy-property-in-vijayawada-city?page=\"\n",
    "for i in range(1,21):\n",
    "    url = base_url+str(i)\n",
    "    print(url)"
   ]
  },
  {
   "cell_type": "markdown",
   "id": "c7b9c158-785d-4cdd-959f-4b76875ae9b9",
   "metadata": {},
   "source": [
    "### Multiple Pages Data Extraction"
   ]
  },
  {
   "cell_type": "code",
   "execution_count": 37,
   "id": "065644d8-b85b-4969-87d9-bcb2c126bafe",
   "metadata": {},
   "outputs": [],
   "source": [
    "# we need to extract content from every page and store the data but if content from one page is extracted (output to be cleared) ---->clear_output\n",
    "from IPython.display import clear_output\n",
    "import time\n",
    "# create lists to store data\n",
    "Locations = [];Area = [];Status = [];Price = []\n",
    "Rooms = [];Bathrooms = [];Facing = [];Type = []\n",
    "# we will follow same thing as above for single one but for multiple pages\n"
   ]
  },
  {
   "cell_type": "code",
   "execution_count": 38,
   "id": "a75541e8-041b-410f-8bf8-9584e7f4d591",
   "metadata": {},
   "outputs": [
    {
     "name": "stdout",
     "output_type": "stream",
     "text": [
      "Scraping Info from page --->53\n"
     ]
    }
   ],
   "source": [
    "# we will use base url and start extracting listings\n",
    "Property_Types = ['Apartment','Villa','Builder Floor',\n",
    "                  'Residential Plot','Independent House','Independent Floor','Studio Apartment']\n",
    "#base_url = \"https://www.makaan.com/vijayawada-residential-property/buy-property-in-vijayawada-city?page=\"\n",
    "for i in range(1,54):\n",
    "    url = \"https://www.makaan.com/vijayawada-residential-property/buy-property-in-vijayawada-city?propertyType=apartment,builder-floor,villa,residential-plot,independent-house,studio-apartment&page\"\n",
    "    print(f'Scraping Info from page --->{i}')\n",
    "    clear_output(wait=True)\n",
    "    time.sleep(1)\n",
    "    # now we will make connection with each url and extract contents\n",
    "    d = requests.get(url)\n",
    "    soup = BeautifulSoup(d.text,'html')\n",
    "    # now we will go for each listings\n",
    "    #-------> Locations data\n",
    "    a = soup.find_all('span',attrs={'itemprop':'addressLocality'})\n",
    "    for i in a:\n",
    "        Locations.append(i.text)\n",
    "    # ----> Rooms data\n",
    "    b = soup.find_all('div',attrs= {'class':'title-line'})\n",
    "    for i in g:\n",
    "        i = i.span.text\n",
    "        i = i.replace(\"Residential Plot\",\"0\").replace(\" \",'')\n",
    "        #print(i)\n",
    "        Rooms.append(i)\n",
    "    # ---> bathrooms and facing data\n",
    "    h = soup.find_all('ul',attrs={'class':'listing-details'})\n",
    "    # we will use regex for facing and lsiting of bathrooms\n",
    "    for i in h:\n",
    "        i = i.text\n",
    "        #print(i.text)\n",
    "        b_count = re.findall(r'(\\d+) Bathrooms',i) # \\d -->digit\n",
    "        #print(b_count)\n",
    "        if b_count:\n",
    "            Bathrooms.append(int(b_count[0]))\n",
    "        else:\n",
    "            Bathrooms.append(0)\n",
    "        facing_directions = re.findall(r'(North|South|East|West|NorthEast|NorthWest|SouthEast|SouthWest) facing',i)\n",
    "        if facing_directions:\n",
    "            Facing.append(facing_directions[0])\n",
    "        else:\n",
    "            Facing.append('None')\n",
    "    # -----> Prices data\n",
    "    f = soup.find_all('div',attrs={'data-type':'price-link'})\n",
    "    for i in f:\n",
    "        i = i.text.strip()\n",
    "        if 'Cr' in i:\n",
    "            i = i.replace(\" Cr\",'')\n",
    "            i = float(i)*100\n",
    "            \n",
    "        else:\n",
    "            i = i.replace(\" L\",'')\n",
    "            i = float(i)\n",
    "        Price.append(i)\n",
    "    # ----> Areas data\n",
    "    e = soup.find_all('td',attrs={'class':'size'})\n",
    "    for i in e:\n",
    "        Area.append(i.text.strip())\n",
    "    # -----> status data\n",
    "    j = soup.find_all('td',attrs={'class':'val'})\n",
    "    for i in j:\n",
    "        Status.append(i.text)\n",
    "    # ---> Type data\n",
    "    h = soup.find_all('div',attrs= {'class':'title-line'})\n",
    "    for i in h:\n",
    "        i = i.text\n",
    "        for j in Property_Types:\n",
    "            if j in i:\n",
    "                Type.append(j)"
   ]
  },
  {
   "cell_type": "code",
   "execution_count": 40,
   "id": "bebd6ae9-da98-40b0-ace3-33800e86d2c4",
   "metadata": {},
   "outputs": [
    {
     "name": "stdout",
     "output_type": "stream",
     "text": [
      "1060\n",
      "1060\n",
      "1060\n",
      "1060\n",
      "1060\n",
      "1060\n",
      "1060\n",
      "1060\n"
     ]
    }
   ],
   "source": [
    "print(len(Locations))\n",
    "print(len(Area))\n",
    "print(len(Bathrooms))\n",
    "print(len(Rooms))\n",
    "print(len(Status))\n",
    "print(len(Type))\n",
    "print(len(Facing))\n",
    "print(len(Price))"
   ]
  },
  {
   "cell_type": "code",
   "execution_count": 50,
   "id": "0c0a9899",
   "metadata": {},
   "outputs": [
    {
     "data": {
      "text/html": [
       "<div>\n",
       "<style scoped>\n",
       "    .dataframe tbody tr th:only-of-type {\n",
       "        vertical-align: middle;\n",
       "    }\n",
       "\n",
       "    .dataframe tbody tr th {\n",
       "        vertical-align: top;\n",
       "    }\n",
       "\n",
       "    .dataframe thead th {\n",
       "        text-align: right;\n",
       "    }\n",
       "</style>\n",
       "<table border=\"1\" class=\"dataframe\">\n",
       "  <thead>\n",
       "    <tr style=\"text-align: right;\">\n",
       "      <th></th>\n",
       "      <th>Place</th>\n",
       "      <th>Area</th>\n",
       "      <th>Status</th>\n",
       "      <th>Rooms</th>\n",
       "      <th>Bathrooms</th>\n",
       "      <th>Facing</th>\n",
       "      <th>p_Type</th>\n",
       "      <th>Price</th>\n",
       "    </tr>\n",
       "  </thead>\n",
       "  <tbody>\n",
       "    <tr>\n",
       "      <th>0</th>\n",
       "      <td>Kesarapalli</td>\n",
       "      <td>7200</td>\n",
       "      <td>New</td>\n",
       "      <td>0</td>\n",
       "      <td>0</td>\n",
       "      <td>None</td>\n",
       "      <td>Residential Plot</td>\n",
       "      <td>252.00</td>\n",
       "    </tr>\n",
       "    <tr>\n",
       "      <th>1</th>\n",
       "      <td>Kesarapalli</td>\n",
       "      <td>1944</td>\n",
       "      <td>New</td>\n",
       "      <td>0</td>\n",
       "      <td>0</td>\n",
       "      <td>None</td>\n",
       "      <td>Residential Plot</td>\n",
       "      <td>68.04</td>\n",
       "    </tr>\n",
       "    <tr>\n",
       "      <th>2</th>\n",
       "      <td>Gannavaram</td>\n",
       "      <td>1266</td>\n",
       "      <td>Ready to move</td>\n",
       "      <td>2</td>\n",
       "      <td>2</td>\n",
       "      <td>None</td>\n",
       "      <td>Apartment</td>\n",
       "      <td>45.57</td>\n",
       "    </tr>\n",
       "    <tr>\n",
       "      <th>3</th>\n",
       "      <td>Poranki</td>\n",
       "      <td>1587</td>\n",
       "      <td>Ready to move</td>\n",
       "      <td>3</td>\n",
       "      <td>3</td>\n",
       "      <td>West</td>\n",
       "      <td>Apartment</td>\n",
       "      <td>55.50</td>\n",
       "    </tr>\n",
       "    <tr>\n",
       "      <th>4</th>\n",
       "      <td>Kankipadu</td>\n",
       "      <td>1560</td>\n",
       "      <td>Resale</td>\n",
       "      <td>0</td>\n",
       "      <td>0</td>\n",
       "      <td>East</td>\n",
       "      <td>Residential Plot</td>\n",
       "      <td>15.50</td>\n",
       "    </tr>\n",
       "    <tr>\n",
       "      <th>...</th>\n",
       "      <td>...</td>\n",
       "      <td>...</td>\n",
       "      <td>...</td>\n",
       "      <td>...</td>\n",
       "      <td>...</td>\n",
       "      <td>...</td>\n",
       "      <td>...</td>\n",
       "      <td>...</td>\n",
       "    </tr>\n",
       "    <tr>\n",
       "      <th>1055</th>\n",
       "      <td>Kankipadu</td>\n",
       "      <td>1782</td>\n",
       "      <td>Resale</td>\n",
       "      <td>0</td>\n",
       "      <td>0</td>\n",
       "      <td>None</td>\n",
       "      <td>Residential Plot</td>\n",
       "      <td>16.83</td>\n",
       "    </tr>\n",
       "    <tr>\n",
       "      <th>1056</th>\n",
       "      <td>Poranki</td>\n",
       "      <td>1800</td>\n",
       "      <td>Resale</td>\n",
       "      <td>0</td>\n",
       "      <td>0</td>\n",
       "      <td>West</td>\n",
       "      <td>Residential Plot</td>\n",
       "      <td>33.00</td>\n",
       "    </tr>\n",
       "    <tr>\n",
       "      <th>1057</th>\n",
       "      <td>Kankipadu</td>\n",
       "      <td>1500</td>\n",
       "      <td>Resale</td>\n",
       "      <td>0</td>\n",
       "      <td>0</td>\n",
       "      <td>None</td>\n",
       "      <td>Residential Plot</td>\n",
       "      <td>20.00</td>\n",
       "    </tr>\n",
       "    <tr>\n",
       "      <th>1058</th>\n",
       "      <td>Benz Circle</td>\n",
       "      <td>2317</td>\n",
       "      <td>Under Construction</td>\n",
       "      <td>3</td>\n",
       "      <td>3</td>\n",
       "      <td>East</td>\n",
       "      <td>Apartment</td>\n",
       "      <td>166.00</td>\n",
       "    </tr>\n",
       "    <tr>\n",
       "      <th>1059</th>\n",
       "      <td>Gannavaram</td>\n",
       "      <td>1650</td>\n",
       "      <td>Ready to move</td>\n",
       "      <td>3</td>\n",
       "      <td>3</td>\n",
       "      <td>None</td>\n",
       "      <td>Apartment</td>\n",
       "      <td>72.00</td>\n",
       "    </tr>\n",
       "  </tbody>\n",
       "</table>\n",
       "<p>1060 rows × 8 columns</p>\n",
       "</div>"
      ],
      "text/plain": [
       "            Place  Area              Status Rooms  Bathrooms Facing  \\\n",
       "0     Kesarapalli  7200                 New     0          0   None   \n",
       "1     Kesarapalli  1944                 New     0          0   None   \n",
       "2      Gannavaram  1266       Ready to move     2          2   None   \n",
       "3         Poranki  1587       Ready to move     3          3   West   \n",
       "4       Kankipadu  1560              Resale     0          0   East   \n",
       "...           ...   ...                 ...   ...        ...    ...   \n",
       "1055    Kankipadu  1782              Resale     0          0   None   \n",
       "1056      Poranki  1800              Resale     0          0   West   \n",
       "1057    Kankipadu  1500              Resale     0          0   None   \n",
       "1058  Benz Circle  2317  Under Construction     3          3   East   \n",
       "1059   Gannavaram  1650       Ready to move     3          3   None   \n",
       "\n",
       "                p_Type   Price  \n",
       "0     Residential Plot  252.00  \n",
       "1     Residential Plot   68.04  \n",
       "2            Apartment   45.57  \n",
       "3            Apartment   55.50  \n",
       "4     Residential Plot   15.50  \n",
       "...                ...     ...  \n",
       "1055  Residential Plot   16.83  \n",
       "1056  Residential Plot   33.00  \n",
       "1057  Residential Plot   20.00  \n",
       "1058         Apartment  166.00  \n",
       "1059         Apartment   72.00  \n",
       "\n",
       "[1060 rows x 8 columns]"
      ]
     },
     "execution_count": 50,
     "metadata": {},
     "output_type": "execute_result"
    }
   ],
   "source": [
    "import pandas as pd\n",
    "data={'Place':Locations,'Area':Area,'Status':Status,'Rooms':Rooms,'Bathrooms':Bathrooms,'Facing':Facing,'p_Type':Type,'Price':Price}\n",
    "df=pd.DataFrame(data)\n",
    "df"
   ]
  },
  {
   "cell_type": "code",
   "execution_count": 51,
   "id": "beb26fa3",
   "metadata": {},
   "outputs": [
    {
     "data": {
      "text/plain": [
       "Place        0\n",
       "Area         0\n",
       "Status       0\n",
       "Rooms        0\n",
       "Bathrooms    0\n",
       "Facing       0\n",
       "p_Type       0\n",
       "Price        0\n",
       "dtype: int64"
      ]
     },
     "execution_count": 51,
     "metadata": {},
     "output_type": "execute_result"
    }
   ],
   "source": [
    "df.isnull().sum()"
   ]
  },
  {
   "cell_type": "code",
   "execution_count": 54,
   "id": "dc954728",
   "metadata": {},
   "outputs": [
    {
     "data": {
      "text/html": [
       "<div>\n",
       "<style scoped>\n",
       "    .dataframe tbody tr th:only-of-type {\n",
       "        vertical-align: middle;\n",
       "    }\n",
       "\n",
       "    .dataframe tbody tr th {\n",
       "        vertical-align: top;\n",
       "    }\n",
       "\n",
       "    .dataframe thead th {\n",
       "        text-align: right;\n",
       "    }\n",
       "</style>\n",
       "<table border=\"1\" class=\"dataframe\">\n",
       "  <thead>\n",
       "    <tr style=\"text-align: right;\">\n",
       "      <th></th>\n",
       "      <th>Place</th>\n",
       "      <th>Area</th>\n",
       "      <th>Status</th>\n",
       "      <th>Rooms</th>\n",
       "      <th>Bathrooms</th>\n",
       "      <th>Facing</th>\n",
       "      <th>p_Type</th>\n",
       "      <th>Price</th>\n",
       "    </tr>\n",
       "  </thead>\n",
       "  <tbody>\n",
       "    <tr>\n",
       "      <th>0</th>\n",
       "      <td>Kesarapalli</td>\n",
       "      <td>7200</td>\n",
       "      <td>New</td>\n",
       "      <td>0</td>\n",
       "      <td>0</td>\n",
       "      <td>None</td>\n",
       "      <td>Residential Plot</td>\n",
       "      <td>252.00</td>\n",
       "    </tr>\n",
       "    <tr>\n",
       "      <th>1</th>\n",
       "      <td>Kesarapalli</td>\n",
       "      <td>1944</td>\n",
       "      <td>New</td>\n",
       "      <td>0</td>\n",
       "      <td>0</td>\n",
       "      <td>None</td>\n",
       "      <td>Residential Plot</td>\n",
       "      <td>68.04</td>\n",
       "    </tr>\n",
       "    <tr>\n",
       "      <th>2</th>\n",
       "      <td>Gannavaram</td>\n",
       "      <td>1266</td>\n",
       "      <td>Ready to move</td>\n",
       "      <td>2</td>\n",
       "      <td>2</td>\n",
       "      <td>None</td>\n",
       "      <td>Apartment</td>\n",
       "      <td>45.57</td>\n",
       "    </tr>\n",
       "    <tr>\n",
       "      <th>3</th>\n",
       "      <td>Poranki</td>\n",
       "      <td>1587</td>\n",
       "      <td>Ready to move</td>\n",
       "      <td>3</td>\n",
       "      <td>3</td>\n",
       "      <td>West</td>\n",
       "      <td>Apartment</td>\n",
       "      <td>55.50</td>\n",
       "    </tr>\n",
       "    <tr>\n",
       "      <th>4</th>\n",
       "      <td>Kankipadu</td>\n",
       "      <td>1560</td>\n",
       "      <td>Resale</td>\n",
       "      <td>0</td>\n",
       "      <td>0</td>\n",
       "      <td>East</td>\n",
       "      <td>Residential Plot</td>\n",
       "      <td>15.50</td>\n",
       "    </tr>\n",
       "    <tr>\n",
       "      <th>...</th>\n",
       "      <td>...</td>\n",
       "      <td>...</td>\n",
       "      <td>...</td>\n",
       "      <td>...</td>\n",
       "      <td>...</td>\n",
       "      <td>...</td>\n",
       "      <td>...</td>\n",
       "      <td>...</td>\n",
       "    </tr>\n",
       "    <tr>\n",
       "      <th>1055</th>\n",
       "      <td>Kankipadu</td>\n",
       "      <td>1782</td>\n",
       "      <td>Resale</td>\n",
       "      <td>0</td>\n",
       "      <td>0</td>\n",
       "      <td>None</td>\n",
       "      <td>Residential Plot</td>\n",
       "      <td>16.83</td>\n",
       "    </tr>\n",
       "    <tr>\n",
       "      <th>1056</th>\n",
       "      <td>Poranki</td>\n",
       "      <td>1800</td>\n",
       "      <td>Resale</td>\n",
       "      <td>0</td>\n",
       "      <td>0</td>\n",
       "      <td>West</td>\n",
       "      <td>Residential Plot</td>\n",
       "      <td>33.00</td>\n",
       "    </tr>\n",
       "    <tr>\n",
       "      <th>1057</th>\n",
       "      <td>Kankipadu</td>\n",
       "      <td>1500</td>\n",
       "      <td>Resale</td>\n",
       "      <td>0</td>\n",
       "      <td>0</td>\n",
       "      <td>None</td>\n",
       "      <td>Residential Plot</td>\n",
       "      <td>20.00</td>\n",
       "    </tr>\n",
       "    <tr>\n",
       "      <th>1058</th>\n",
       "      <td>Benz Circle</td>\n",
       "      <td>2317</td>\n",
       "      <td>Under Construction</td>\n",
       "      <td>3</td>\n",
       "      <td>3</td>\n",
       "      <td>East</td>\n",
       "      <td>Apartment</td>\n",
       "      <td>166.00</td>\n",
       "    </tr>\n",
       "    <tr>\n",
       "      <th>1059</th>\n",
       "      <td>Gannavaram</td>\n",
       "      <td>1650</td>\n",
       "      <td>Ready to move</td>\n",
       "      <td>3</td>\n",
       "      <td>3</td>\n",
       "      <td>None</td>\n",
       "      <td>Apartment</td>\n",
       "      <td>72.00</td>\n",
       "    </tr>\n",
       "  </tbody>\n",
       "</table>\n",
       "<p>1060 rows × 8 columns</p>\n",
       "</div>"
      ],
      "text/plain": [
       "            Place  Area              Status Rooms  Bathrooms Facing  \\\n",
       "0     Kesarapalli  7200                 New     0          0   None   \n",
       "1     Kesarapalli  1944                 New     0          0   None   \n",
       "2      Gannavaram  1266       Ready to move     2          2   None   \n",
       "3         Poranki  1587       Ready to move     3          3   West   \n",
       "4       Kankipadu  1560              Resale     0          0   East   \n",
       "...           ...   ...                 ...   ...        ...    ...   \n",
       "1055    Kankipadu  1782              Resale     0          0   None   \n",
       "1056      Poranki  1800              Resale     0          0   West   \n",
       "1057    Kankipadu  1500              Resale     0          0   None   \n",
       "1058  Benz Circle  2317  Under Construction     3          3   East   \n",
       "1059   Gannavaram  1650       Ready to move     3          3   None   \n",
       "\n",
       "                p_Type   Price  \n",
       "0     Residential Plot  252.00  \n",
       "1     Residential Plot   68.04  \n",
       "2            Apartment   45.57  \n",
       "3            Apartment   55.50  \n",
       "4     Residential Plot   15.50  \n",
       "...                ...     ...  \n",
       "1055  Residential Plot   16.83  \n",
       "1056  Residential Plot   33.00  \n",
       "1057  Residential Plot   20.00  \n",
       "1058         Apartment  166.00  \n",
       "1059         Apartment   72.00  \n",
       "\n",
       "[1060 rows x 8 columns]"
      ]
     },
     "execution_count": 54,
     "metadata": {},
     "output_type": "execute_result"
    }
   ],
   "source": [
    "#create a csv file\n",
    "df.to_csv('vijayawada.csv')\n",
    "df\n"
   ]
  },
  {
   "cell_type": "markdown",
   "id": "278a8e95",
   "metadata": {},
   "source": [
    "# end of web scraping"
   ]
  },
  {
   "cell_type": "markdown",
   "id": "5ccd97a6",
   "metadata": {},
   "source": [
    "1:57pm\n",
    "29-12-2023\n",
    "fri"
   ]
  },
  {
   "cell_type": "code",
   "execution_count": null,
   "id": "fd04f57f",
   "metadata": {},
   "outputs": [],
   "source": []
  }
 ],
 "metadata": {
  "kernelspec": {
   "display_name": "Python 3 (ipykernel)",
   "language": "python",
   "name": "python3"
  },
  "language_info": {
   "codemirror_mode": {
    "name": "ipython",
    "version": 3
   },
   "file_extension": ".py",
   "mimetype": "text/x-python",
   "name": "python",
   "nbconvert_exporter": "python",
   "pygments_lexer": "ipython3",
   "version": "3.10.4"
  }
 },
 "nbformat": 4,
 "nbformat_minor": 5
}
