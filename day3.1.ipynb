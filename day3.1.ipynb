{
 "cells": [
  {
   "cell_type": "code",
   "execution_count": 1,
   "id": "7b7d9165",
   "metadata": {},
   "outputs": [
    {
     "name": "stdout",
     "output_type": "stream",
     "text": [
      "Requirement already satisfied: requests in c:\\users\\harsh\\appdata\\local\\programs\\python\\python310\\lib\\site-packages (2.28.1)\n",
      "Requirement already satisfied: charset-normalizer<3,>=2 in c:\\users\\harsh\\appdata\\local\\programs\\python\\python310\\lib\\site-packages (from requests) (2.1.1)\n",
      "Requirement already satisfied: idna<4,>=2.5 in c:\\users\\harsh\\appdata\\local\\programs\\python\\python310\\lib\\site-packages (from requests) (3.4)\n",
      "Requirement already satisfied: urllib3<1.27,>=1.21.1 in c:\\users\\harsh\\appdata\\local\\programs\\python\\python310\\lib\\site-packages (from requests) (1.26.12)\n",
      "Requirement already satisfied: certifi>=2017.4.17 in c:\\users\\harsh\\appdata\\local\\programs\\python\\python310\\lib\\site-packages (from requests) (2022.9.14)\n",
      "Note: you may need to restart the kernel to use updated packages.\n"
     ]
    }
   ],
   "source": [
    "pip install requests"
   ]
  },
  {
   "cell_type": "code",
   "execution_count": 2,
   "id": "5400720c",
   "metadata": {},
   "outputs": [],
   "source": [
    "import requests"
   ]
  },
  {
   "cell_type": "code",
   "execution_count": 3,
   "id": "024092d2",
   "metadata": {},
   "outputs": [],
   "source": [
    "import bs4"
   ]
  },
  {
   "cell_type": "code",
   "execution_count": 7,
   "id": "84b1c777",
   "metadata": {},
   "outputs": [],
   "source": [
    "#let's get the desired url of the website we wanted to scrape\n",
    "url = \"https://www.makaan.com/vijayawada-residential-property/buy-property-in-vijayawada-city\""
   ]
  },
  {
   "cell_type": "code",
   "execution_count": 10,
   "id": "f3644518",
   "metadata": {},
   "outputs": [
    {
     "data": {
      "text/plain": [
       "bs4.BeautifulSoup"
      ]
     },
     "execution_count": 10,
     "metadata": {},
     "output_type": "execute_result"
    }
   ],
   "source": [
    "from bs4 import BeautifulSoup\n",
    "soup = BeautifulSoup(data.text,'html')\n",
    "soup\n",
    "type(soup)"
   ]
  },
  {
   "cell_type": "code",
   "execution_count": 15,
   "id": "f0d8610e",
   "metadata": {},
   "outputs": [
    {
     "data": {
      "text/plain": [
       "'Residential Plot in Himaja Elite Vistas'"
      ]
     },
     "execution_count": 15,
     "metadata": {},
     "output_type": "execute_result"
    }
   ],
   "source": [
    "soup.find('div',attrs={'class':'title-line'}).text"
   ]
  },
  {
   "cell_type": "code",
   "execution_count": 19,
   "id": "be213bdb",
   "metadata": {},
   "outputs": [
    {
     "data": {
      "text/plain": [
       "'1 - 2 years old'"
      ]
     },
     "execution_count": 19,
     "metadata": {},
     "output_type": "execute_result"
    }
   ],
   "source": [
    "soup.find('ul',attrs={'class':'listing-details'}).text#if .text is not kept then we get the html code of that line"
   ]
  },
  {
   "cell_type": "code",
   "execution_count": 20,
   "id": "8064191f",
   "metadata": {},
   "outputs": [
    {
     "data": {
      "text/plain": [
       "'Kesarapalli'"
      ]
     },
     "execution_count": 20,
     "metadata": {},
     "output_type": "execute_result"
    }
   ],
   "source": [
    "soup.find('span',attrs={'itemprop':'addressLocality'}).text"
   ]
  },
  {
   "cell_type": "code",
   "execution_count": 27,
   "id": "803ac670",
   "metadata": {},
   "outputs": [
    {
     "name": "stdout",
     "output_type": "stream",
     "text": [
      "Kesarapalli\n",
      "Kesarapalli\n",
      "Gannavaram\n",
      "Poranki\n",
      "Kankipadu\n",
      "Poranki\n",
      "Kankipadu\n",
      "Poranki\n",
      "Gannavaram\n",
      "Gunadala\n",
      "Gollapudi\n",
      "Enikepadu\n",
      "Benz Circle\n",
      "Vidhyadharpuram\n",
      "Penamaluru\n",
      "Kankipadu\n",
      "Poranki\n",
      "Kankipadu\n",
      "Benz Circle\n",
      "Gannavaram\n",
      "['Kesarapalli', 'Kesarapalli', 'Gannavaram', 'Poranki', 'Kankipadu', 'Poranki', 'Kankipadu', 'Poranki', 'Gannavaram', 'Gunadala', 'Gollapudi', 'Enikepadu', 'Benz Circle', 'Vidhyadharpuram', 'Penamaluru', 'Kankipadu', 'Poranki', 'Kankipadu', 'Benz Circle', 'Gannavaram']\n",
      "20\n"
     ]
    }
   ],
   "source": [
    "d = soup.find_all('span',attrs={'itemprop':'addressLocality'})\n",
    "names = []\n",
    "for i in d:\n",
    "    print(i.text)\n",
    "    names.append(i.text)\n",
    "print(names)\n",
    "print(len(names))\n",
    "    "
   ]
  },
  {
   "cell_type": "code",
   "execution_count": 28,
   "id": "72d55f04",
   "metadata": {},
   "outputs": [
    {
     "name": "stdout",
     "output_type": "stream",
     "text": [
      "['Kesarapalli', 'Kesarapalli', 'Gannavaram', 'Poranki', 'Kankipadu', 'Poranki', 'Kankipadu', 'Poranki', 'Gannavaram', 'Gunadala', 'Gollapudi', 'Enikepadu', 'Benz Circle', 'Vidhyadharpuram', 'Penamaluru', 'Kankipadu', 'Poranki', 'Kankipadu', 'Benz Circle', 'Gannavaram']\n",
      "20\n"
     ]
    }
   ],
   "source": [
    "#Same above can be written in List Comprehension\n",
    "d = soup.find_all('span',attrs={'itemprop':'addressLocality'})\n",
    "#Every List Comprehension can be written as a for loop whereas vice-versa is not True\n",
    "location = [i.text for i in d]\n",
    "print(location)\n",
    "print(len(location))"
   ]
  },
  {
   "cell_type": "code",
   "execution_count": 14,
   "id": "c135efed",
   "metadata": {},
   "outputs": [
    {
     "data": {
      "text/plain": [
       "[]"
      ]
     },
     "execution_count": 14,
     "metadata": {},
     "output_type": "execute_result"
    }
   ],
   "source": [
    "#regex-->used at tym of signup\n",
    "#https://regexr.com/\n",
    "#helps to get patter, pattern matching\n",
    "#to get bathrooms\n",
    "import re\n",
    "h=soup.find_all('ul',attrs={'class':'listings-details'})#soup lodi findall\n",
    "Bathrooms=[]\n",
    "Facing=[]\n",
    "#now we will use regex for find the listings\n",
    "for i in h:\n",
    "    i=i.text\n",
    "    #print(i)\n",
    "    b_count=re.findall(r'(\\d+)Bathrooms',i)#\\d-->for digit, regex lodi findall\n",
    "    \n",
    "    #print(b_count)\n",
    "    if b_count:\n",
    "        Bathrooms.append(int(b_count[0]))\n",
    "    else:\n",
    "        bathrooms.append(0)\n",
    "Bathrooms        "
   ]
  },
  {
   "cell_type": "code",
   "execution_count": 33,
   "id": "64ce7cf8",
   "metadata": {},
   "outputs": [
    {
     "name": "stdout",
     "output_type": "stream",
     "text": [
      "['7200', '1944', '1266', '1587', '1560', '1450', '1290', '1200', '1663', '1500', '2062', '1250', '1350', '1600', '3700', '1782', '1800', '1500', '2317', '1650']\n",
      "20\n"
     ]
    }
   ],
   "source": [
    "e = soup.find_all('td',attrs={'class':'size'})\n",
    "area = [i.text.strip() for i in e]\n",
    "print(area)\n",
    "print(len(area))"
   ]
  },
  {
   "cell_type": "code",
   "execution_count": 35,
   "id": "82d4bbcb",
   "metadata": {},
   "outputs": [
    {
     "name": "stdout",
     "output_type": "stream",
     "text": [
      "['2.52 Cr', '68.04 L', '45.57 L', '55.5 L', '15.5 L', '48 L', '50 L', '40 L', '59.86 L', '56 L', '89 L', '39 L', '59 L', '95 L', '1.1 Cr', '16.83 L', '33 L', '20 L', '1.66 Cr', '72 L']\n"
     ]
    }
   ],
   "source": [
    "f = soup.find_all('div',attrs={'data-type':'price-link'})\n",
    "p = [i.text.strip() for i in f]\n",
    "print(p)"
   ]
  },
  {
   "cell_type": "code",
   "execution_count": 36,
   "id": "3461486d",
   "metadata": {},
   "outputs": [
    {
     "name": "stdout",
     "output_type": "stream",
     "text": [
      "[252.0, 68.04, 45.57, 55.5, 15.5, 48.0, 50.0, 40.0, 59.86, 56.0, 89.0, 39.0, 59.0, 95.0, 110.00000000000001, 16.83, 33.0, 20.0, 166.0, 72.0]\n"
     ]
    }
   ],
   "source": [
    "Price = []\n",
    "f = soup.find_all('div',attrs={'data-type':'price-link'})\n",
    "for i in f:\n",
    "    i = i.text.strip()\n",
    "    if \"Cr\" in i:\n",
    "        i = i.replace(\" Cr\",'') #we are replacing \"Cr\" with empty string\n",
    "        i = float(i)*100 #Converting into Lakhs\n",
    "    else:\n",
    "        i = i.replace(\" L\",'')\n",
    "        i = float(i)\n",
    "    Price.append(i)\n",
    "print(Price)"
   ]
  },
  {
   "cell_type": "code",
   "execution_count": 38,
   "id": "b90f8d65",
   "metadata": {},
   "outputs": [
    {
     "name": "stdout",
     "output_type": "stream",
     "text": [
      "['3,500 / sq ft', '3,500 / sq ft', '3,600 / sq ft', '3,497 / sq ft', '993 / sq ft', '3,310 / sq ft', '3,875 / sq ft', '3,333 / sq ft', '3,600 / sq ft', '3,733 / sq ft', '4,316 / sq ft', '3,120 / sq ft', '4,370 / sq ft', '5,937 / sq ft', '2,972 / sq ft', '944 / sq ft', '1,833 / sq ft', '1,333 / sq ft', '7,200 / sq ft', '4,363 / sq ft']\n",
      "20\n"
     ]
    }
   ],
   "source": [
    "g = soup.find_all('td',attrs={'class':'lbl rate'})\n",
    "Prc_Sqft = [i.text for i in g]\n",
    "print(Prc_Sqft)\n",
    "print(len(Prc_Sqft))"
   ]
  },
  {
   "cell_type": "code",
   "execution_count": 39,
   "id": "e812e6f9",
   "metadata": {},
   "outputs": [
    {
     "name": "stdout",
     "output_type": "stream",
     "text": [
      "['New', 'New', 'Ready to move', 'Ready to move', 'Resale', 'Ready to move', 'Under Construction', 'Ready to move', 'Ready to move', 'Ready to move', 'Ready to move', 'Ready to move', 'Ready to move', 'Under Construction', 'Ready to move', 'Resale', 'Resale', 'Resale', 'Under Construction', 'Ready to move']\n"
     ]
    }
   ],
   "source": [
    "k = soup.find_all('td',attrs={'class':'val'})\n",
    "age=[i.text for i in k]\n",
    "print(age)"
   ]
  },
  {
   "cell_type": "code",
   "execution_count": 75,
   "id": "f0c5fa7d",
   "metadata": {
    "scrolled": false
   },
   "outputs": [],
   "source": [
    "url1=\"https://getmereferred.com/app/candidates/candidate_oppurtunities/jobs\""
   ]
  },
  {
   "cell_type": "code",
   "execution_count": 76,
   "id": "31f7d21f",
   "metadata": {},
   "outputs": [
    {
     "data": {
      "text/plain": [
       "<Response [200]>"
      ]
     },
     "execution_count": 76,
     "metadata": {},
     "output_type": "execute_result"
    }
   ],
   "source": [
    "req=requests.get(url1)\n",
    "req"
   ]
  },
  {
   "cell_type": "code",
   "execution_count": 77,
   "id": "0d22b7fa",
   "metadata": {},
   "outputs": [],
   "source": [
    "soup=BeautifulSoup(req.text,'html')\n",
    "#soup"
   ]
  },
  {
   "cell_type": "code",
   "execution_count": 80,
   "id": "1f953e86",
   "metadata": {},
   "outputs": [],
   "source": [
    "#print(soup.prettify())"
   ]
  },
  {
   "cell_type": "code",
   "execution_count": 74,
   "id": "4232c284",
   "metadata": {},
   "outputs": [
    {
     "ename": "AttributeError",
     "evalue": "'NoneType' object has no attribute 'text'",
     "output_type": "error",
     "traceback": [
      "\u001b[1;31m---------------------------------------------------------------------------\u001b[0m",
      "\u001b[1;31mAttributeError\u001b[0m                            Traceback (most recent call last)",
      "Input \u001b[1;32mIn [74]\u001b[0m, in \u001b[0;36m<cell line: 1>\u001b[1;34m()\u001b[0m\n\u001b[1;32m----> 1\u001b[0m \u001b[43msoup\u001b[49m\u001b[38;5;241;43m.\u001b[39;49m\u001b[43mfind\u001b[49m\u001b[43m(\u001b[49m\u001b[38;5;124;43m'\u001b[39;49m\u001b[38;5;124;43mdiv\u001b[39;49m\u001b[38;5;124;43m'\u001b[39;49m\u001b[43m,\u001b[49m\u001b[43mattrs\u001b[49m\u001b[43m \u001b[49m\u001b[38;5;241;43m=\u001b[39;49m\u001b[43m \u001b[49m\u001b[43m{\u001b[49m\u001b[38;5;124;43m'\u001b[39;49m\u001b[38;5;124;43mclass\u001b[39;49m\u001b[38;5;124;43m'\u001b[39;49m\u001b[43m:\u001b[49m\u001b[38;5;124;43m'\u001b[39;49m\u001b[38;5;124;43mcandidate-oppurtunity-card\u001b[39;49m\u001b[38;5;124;43m'\u001b[39;49m\u001b[43m}\u001b[49m\u001b[43m)\u001b[49m\u001b[38;5;241;43m.\u001b[39;49m\u001b[43mtext\u001b[49m\n",
      "\u001b[1;31mAttributeError\u001b[0m: 'NoneType' object has no attribute 'text'"
     ]
    }
   ],
   "source": [
    "soup.find('div',attrs = {'class':'candidate-oppurtunity-card'}).text"
   ]
  },
  {
   "cell_type": "code",
   "execution_count": null,
   "id": "d7392399",
   "metadata": {},
   "outputs": [],
   "source": []
  }
 ],
 "metadata": {
  "kernelspec": {
   "display_name": "Python 3 (ipykernel)",
   "language": "python",
   "name": "python3"
  },
  "language_info": {
   "codemirror_mode": {
    "name": "ipython",
    "version": 3
   },
   "file_extension": ".py",
   "mimetype": "text/x-python",
   "name": "python",
   "nbconvert_exporter": "python",
   "pygments_lexer": "ipython3",
   "version": "3.10.4"
  }
 },
 "nbformat": 4,
 "nbformat_minor": 5
}
