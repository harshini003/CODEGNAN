{
 "cells": [
  {
   "cell_type": "code",
   "execution_count": null,
   "id": "114a3c5e",
   "metadata": {},
   "outputs": [],
   "source": [
    "#regex-->used at tym of signup\n",
    "#https://regexr.com/\n",
    "#helps to get patter, pattern matching\n",
    "import re\n",
    "h=soup.find_all('ul',attrs={'class':'listings-details'})\n",
    "Bathrooms=[]\n",
    "Facing=[]\n",
    "#now we will use regex for find the listings"
   ]
  }
 ],
 "metadata": {
  "kernelspec": {
   "display_name": "Python 3 (ipykernel)",
   "language": "python",
   "name": "python3"
  },
  "language_info": {
   "codemirror_mode": {
    "name": "ipython",
    "version": 3
   },
   "file_extension": ".py",
   "mimetype": "text/x-python",
   "name": "python",
   "nbconvert_exporter": "python",
   "pygments_lexer": "ipython3",
   "version": "3.10.4"
  }
 },
 "nbformat": 4,
 "nbformat_minor": 5
}
